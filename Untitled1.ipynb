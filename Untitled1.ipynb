{
 "cells": [
  {
   "cell_type": "code",
   "execution_count": 1,
   "metadata": {},
   "outputs": [],
   "source": [
    "import resource"
   ]
  },
  {
   "cell_type": "code",
   "execution_count": 2,
   "metadata": {},
   "outputs": [
    {
     "name": "stdout",
     "output_type": "stream",
     "text": [
      "Enter the range of array  3\n",
      "Start Entering numbers:\n",
      "12\n",
      "123\n",
      "1234\n",
      "nums =[12, 123, 1234]\n",
      "No.of even digit elements are: 2\n",
      "\n",
      " Execution time in seconds: 0.867265\n"
     ]
    }
   ],
   "source": [
    "import timeit\n",
    "code_to_test = \"\"\"\n",
    "a = []\n",
    "b = int(input(\"Enter the range of array  \"))\n",
    "while(b>500 or b<1):\n",
    "    b = int(input(\"Enter the number in range between 1-500\"))\n",
    "print(\"Start Entering numbers:\")\n",
    "for i in range(0,b):\n",
    "    a.append(int(input()))\n",
    "print(\"nums =\" + str(a))\n",
    "counter = 0\n",
    "for i in range(0,b):\n",
    "    count = 0\n",
    "    while(a[i]/10 != 0):\n",
    "        a[i] = int(a[i]/10)\n",
    "        count += 1\n",
    "    if(count%2 == 0):\n",
    "        counter += 1\n",
    "print(\"No.of even digit elements are: %d\" %(counter))\n",
    "\"\"\"\n",
    "\n",
    "elapsed_time = timeit.timeit(code_to_test, number=1)/100\n",
    "print(\"\\n Execution time in seconds: %f\" %(elapsed_time))"
   ]
  },
  {
   "cell_type": "code",
   "execution_count": 15,
   "metadata": {},
   "outputs": [
    {
     "name": "stdout",
     "output_type": "stream",
     "text": [
      "Enter a number\n",
      "34\n",
      "\n",
      "34's divisors are:\n",
      "\n",
      "1\n",
      "2\n",
      "17\n",
      "34\n",
      "6.501764 secs 0.056530 MByte\n"
     ]
    }
   ],
   "source": [
    "import time\n",
    "import resource \n",
    "\n",
    "time_start = time.perf_counter()\n",
    "a = int(input('Enter a number\\n'))\n",
    "\n",
    "i = 1\n",
    "print(\"\\n%d's divisors are:\\n\" %(a))\n",
    "while(i <= a/2):\n",
    "    if(a%i == 0):\n",
    "        print(i)\n",
    "    i += 1\n",
    "print(a)\n",
    "time_elapsed = (time.perf_counter() - time_start)\n",
    "memMb=resource.getrusage(resource.RUSAGE_SELF).ru_maxrss/1024.0/1024.0\n",
    "print (\"%f secs %f MByte\" % (time_elapsed,memMb))"
   ]
  },
  {
   "cell_type": "code",
   "execution_count": null,
   "metadata": {},
   "outputs": [],
   "source": []
  }
 ],
 "metadata": {
  "kernelspec": {
   "display_name": "Python 3",
   "language": "python",
   "name": "python3"
  },
  "language_info": {
   "codemirror_mode": {
    "name": "ipython",
    "version": 3
   },
   "file_extension": ".py",
   "mimetype": "text/x-python",
   "name": "python",
   "nbconvert_exporter": "python",
   "pygments_lexer": "ipython3",
   "version": "3.6.9"
  }
 },
 "nbformat": 4,
 "nbformat_minor": 4
}
